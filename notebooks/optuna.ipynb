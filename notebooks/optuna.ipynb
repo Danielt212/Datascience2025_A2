{
 "cells": [
  {
   "cell_type": "code",
   "execution_count": 1,
   "metadata": {},
   "outputs": [],
   "source": [
    "import numpy as np\n",
    "import tensorflow as tf\n",
    "from tensorflow import keras\n",
    "from tensorflow.keras import layers\n",
    "from tensorflow.keras.preprocessing.image import ImageDataGenerator\n",
    "import optuna\n",
    "from optuna.integration import TFKerasPruningCallback\n",
    "import matplotlib.pyplot as plt\n",
    "import seaborn as sns\n",
    "from sklearn.model_selection import train_test_split\n",
    "import pickle\n",
    "import os\n",
    "from PIL import Image\n",
    "import cv2\n",
    "\n",
    "# Set random seeds for reproducibility\n",
    "np.random.seed(42)\n",
    "tf.random.set_seed(42)"
   ]
  },
  {
   "cell_type": "code",
   "execution_count": 2,
   "metadata": {},
   "outputs": [],
   "source": [
    "def save_study(study, filename=\"optuna_study.pkl\"):\n",
    "    \"\"\"Save the study to a file.\"\"\"\n",
    "    with open(filename, 'wb') as f:\n",
    "        pickle.dump(study, f)\n",
    "    print(f\"Study saved to {filename}\")\n",
    "\n",
    "def load_study(filename=\"optuna_study.pkl\"):\n",
    "    \"\"\"Load a study from a file.\"\"\"\n",
    "    try:\n",
    "        with open(filename, 'rb') as f:\n",
    "            study = pickle.load(f)\n",
    "        print(f\"Study loaded from {filename}\")\n",
    "        return study\n",
    "    except FileNotFoundError:\n",
    "        print(f\"No saved study found at {filename}\")\n",
    "        return None"
   ]
  },
  {
   "cell_type": "code",
   "execution_count": 3,
   "metadata": {},
   "outputs": [],
   "source": [
    "# Loading data\n",
    "labels = ['PNEUMONIA', 'NORMAL']\n",
    "img_size = 150\n",
    "\n",
    "def get_training_data(data_dir):\n",
    "    data = []\n",
    "    for label in labels:\n",
    "        path = os.path.join(data_dir, label)\n",
    "        class_num = labels.index(label)\n",
    "        for img in os.listdir(path):\n",
    "            try:\n",
    "                img_path = os.path.join(path, img)\n",
    "                img_arr = cv2.imread(img_path, cv2.IMREAD_GRAYSCALE)\n",
    "                if img_arr is None:\n",
    "                    continue\n",
    "                resized_arr = cv2.resize(img_arr, (img_size, img_size))\n",
    "                data.append([resized_arr, class_num])\n",
    "            except Exception as e:\n",
    "                print(f\"Error processing {img_path}: {e}\")\n",
    "    return np.array(data, dtype=object)"
   ]
  },
  {
   "cell_type": "code",
   "execution_count": 4,
   "metadata": {},
   "outputs": [],
   "source": [
    "# Load data\n",
    "train = get_training_data(r'C:\\Users\\danie\\Leiden_Scripts\\Datascience2025_A2\\data\\chest_xray\\train')\n",
    "test = get_training_data(r'C:\\Users\\danie\\Leiden_Scripts\\Datascience2025_A2\\data\\chest_xray\\test')\n",
    "val = get_training_data(r'C:\\Users\\danie\\Leiden_Scripts\\Datascience2025_A2\\data\\chest_xray\\val')\n",
    "\n",
    "# Prepare data for training\n",
    "X_train = np.array([i[0] for i in train]).reshape(-1, img_size, img_size, 1)\n",
    "y_train = np.array([i[1] for i in train])\n",
    "X_test = np.array([i[0] for i in test]).reshape(-1, img_size, img_size, 1)\n",
    "y_test = np.array([i[1] for i in test])\n",
    "X_val = np.array([i[0] for i in val]).reshape(-1, img_size, img_size, 1)\n",
    "y_val = np.array([i[1] for i in val])"
   ]
  },
  {
   "cell_type": "code",
   "execution_count": 5,
   "metadata": {},
   "outputs": [],
   "source": [
    "def create_model(trial):\n",
    "    \"\"\"Create a CNN model with hyperparameters to be optimized\"\"\"\n",
    "    # Hyperparameters to optimize\n",
    "    n_layers = trial.suggest_int('n_layers', 2, 5)\n",
    "    initial_filters = trial.suggest_int('initial_filters', 16, 64)\n",
    "    dropout_rate = trial.suggest_float('dropout_rate', 0.1, 0.5)\n",
    "    learning_rate = trial.suggest_float('learning_rate', 1e-4, 1e-2, log=True)\n",
    "    batch_size = trial.suggest_categorical('batch_size', [16, 32, 64])\n",
    "    \n",
    "    model = keras.Sequential()\n",
    "    \n",
    "    # First layer\n",
    "    model.add(layers.Conv2D(initial_filters, (3, 3), activation='relu', input_shape=(150, 150, 1)))\n",
    "    model.add(layers.BatchNormalization())\n",
    "    model.add(layers.MaxPooling2D((2, 2)))\n",
    "    \n",
    "    # Additional layers\n",
    "    for i in range(n_layers - 1):\n",
    "        filters = initial_filters * (2 ** (i + 1))\n",
    "        model.add(layers.Conv2D(filters, (3, 3), activation='relu', padding='same'))\n",
    "        model.add(layers.BatchNormalization())\n",
    "        model.add(layers.MaxPooling2D((2, 2)))\n",
    "        model.add(layers.Dropout(dropout_rate))\n",
    "    \n",
    "    model.add(layers.Flatten())\n",
    "    model.add(layers.Dense(128, activation='relu'))\n",
    "    model.add(layers.Dropout(dropout_rate))\n",
    "    model.add(layers.Dense(1, activation='sigmoid'))\n",
    "    \n",
    "    optimizer = keras.optimizers.Adam(learning_rate=learning_rate)\n",
    "    model.compile(optimizer=optimizer,\n",
    "                 loss='binary_crossentropy',\n",
    "                 metrics=['accuracy'])\n",
    "    \n",
    "    return model, batch_size"
   ]
  },
  {
   "cell_type": "code",
   "execution_count": 6,
   "metadata": {},
   "outputs": [],
   "source": [
    "def objective(trial):\n",
    "    \"\"\"Objective function for Optuna optimization\"\"\"\n",
    "    # Create model\n",
    "    model, batch_size = create_model(trial)\n",
    "    \n",
    "    # Data augmentation\n",
    "    datagen = ImageDataGenerator(\n",
    "        rotation_range=trial.suggest_int('rotation_range', 0, 30),\n",
    "        width_shift_range=trial.suggest_float('width_shift_range', 0, 0.2),\n",
    "        height_shift_range=trial.suggest_float('height_shift_range', 0, 0.2),\n",
    "        horizontal_flip=trial.suggest_categorical('horizontal_flip', [True, False]),\n",
    "        fill_mode='nearest'\n",
    "    )\n",
    "    \n",
    "    # Training\n",
    "    history = model.fit(\n",
    "        datagen.flow(X_train, y_train, batch_size=batch_size),\n",
    "        epochs=10,\n",
    "        validation_data=(X_val, y_val),\n",
    "        callbacks=[\n",
    "            TFKerasPruningCallback(trial, 'val_accuracy'),\n",
    "            keras.callbacks.EarlyStopping(monitor='val_accuracy', patience=3)\n",
    "        ]\n",
    "    )\n",
    "    \n",
    "    return history.history['val_accuracy'][-1]"
   ]
  },
  {
   "cell_type": "code",
   "execution_count": 14,
   "metadata": {},
   "outputs": [
    {
     "name": "stderr",
     "output_type": "stream",
     "text": [
      "[I 2025-04-16 11:16:48,057] A new study created in memory with name: no-name-29a6a82a-39b0-490a-9c77-3398650b226e\n"
     ]
    },
    {
     "name": "stdout",
     "output_type": "stream",
     "text": [
      "No saved study found at optuna_study.pkl\n",
      "Created new study\n",
      "Epoch 1/10\n",
      "\u001b[1m163/163\u001b[0m \u001b[32m━━━━━━━━━━━━━━━━━━━━\u001b[0m\u001b[37m\u001b[0m \u001b[1m55s\u001b[0m 326ms/step - accuracy: 0.8037 - loss: 0.8317 - val_accuracy: 0.8125 - val_loss: 0.4171\n",
      "Epoch 2/10\n",
      "\u001b[1m163/163\u001b[0m \u001b[32m━━━━━━━━━━━━━━━━━━━━\u001b[0m\u001b[37m\u001b[0m \u001b[1m53s\u001b[0m 323ms/step - accuracy: 0.8859 - loss: 0.2946 - val_accuracy: 0.6250 - val_loss: 0.8239\n",
      "Epoch 3/10\n",
      "\u001b[1m163/163\u001b[0m \u001b[32m━━━━━━━━━━━━━━━━━━━━\u001b[0m\u001b[37m\u001b[0m \u001b[1m53s\u001b[0m 323ms/step - accuracy: 0.9004 - loss: 0.2637 - val_accuracy: 0.8750 - val_loss: 0.3383\n",
      "Epoch 4/10\n",
      "\u001b[1m163/163\u001b[0m \u001b[32m━━━━━━━━━━━━━━━━━━━━\u001b[0m\u001b[37m\u001b[0m \u001b[1m54s\u001b[0m 331ms/step - accuracy: 0.9053 - loss: 0.2296 - val_accuracy: 0.8125 - val_loss: 0.3623\n",
      "Epoch 5/10\n",
      "\u001b[1m163/163\u001b[0m \u001b[32m━━━━━━━━━━━━━━━━━━━━\u001b[0m\u001b[37m\u001b[0m \u001b[1m52s\u001b[0m 320ms/step - accuracy: 0.9145 - loss: 0.2119 - val_accuracy: 0.6875 - val_loss: 0.9299\n",
      "Epoch 6/10\n",
      "\u001b[1m163/163\u001b[0m \u001b[32m━━━━━━━━━━━━━━━━━━━━\u001b[0m\u001b[37m\u001b[0m \u001b[1m51s\u001b[0m 312ms/step - accuracy: 0.9237 - loss: 0.1835 - val_accuracy: 0.8125 - val_loss: 0.3719\n"
     ]
    },
    {
     "name": "stderr",
     "output_type": "stream",
     "text": [
      "[I 2025-04-16 11:22:05,997] Trial 0 finished with value: 0.8125 and parameters: {'n_layers': 2, 'initial_filters': 24, 'dropout_rate': 0.49816266338196846, 'learning_rate': 0.000261338178407578, 'batch_size': 32, 'rotation_range': 30, 'width_shift_range': 0.10024926888094131, 'height_shift_range': 0.1605684899850709, 'horizontal_flip': True}. Best is trial 0 with value: 0.8125.\n"
     ]
    },
    {
     "name": "stdout",
     "output_type": "stream",
     "text": [
      "Study saved to optuna_study.pkl\n",
      "Epoch 1/10\n",
      "\u001b[1m326/326\u001b[0m \u001b[32m━━━━━━━━━━━━━━━━━━━━\u001b[0m\u001b[37m\u001b[0m \u001b[1m87s\u001b[0m 261ms/step - accuracy: 0.7842 - loss: 1.4810 - val_accuracy: 0.8125 - val_loss: 0.5179\n",
      "Epoch 2/10\n",
      "\u001b[1m326/326\u001b[0m \u001b[32m━━━━━━━━━━━━━━━━━━━━\u001b[0m\u001b[37m\u001b[0m \u001b[1m85s\u001b[0m 261ms/step - accuracy: 0.8742 - loss: 0.3191 - val_accuracy: 0.5000 - val_loss: 7.4564\n",
      "Epoch 3/10\n",
      "\u001b[1m326/326\u001b[0m \u001b[32m━━━━━━━━━━━━━━━━━━━━\u001b[0m\u001b[37m\u001b[0m \u001b[1m86s\u001b[0m 265ms/step - accuracy: 0.9182 - loss: 0.2145 - val_accuracy: 0.7500 - val_loss: 0.4778\n",
      "Epoch 4/10\n",
      "\u001b[1m326/326\u001b[0m \u001b[32m━━━━━━━━━━━━━━━━━━━━\u001b[0m\u001b[37m\u001b[0m \u001b[1m86s\u001b[0m 263ms/step - accuracy: 0.8981 - loss: 0.2543 - val_accuracy: 0.5000 - val_loss: 2.3338\n"
     ]
    },
    {
     "name": "stderr",
     "output_type": "stream",
     "text": [
      "[I 2025-04-16 11:27:51,318] Trial 1 finished with value: 0.5 and parameters: {'n_layers': 3, 'initial_filters': 32, 'dropout_rate': 0.40400021612684867, 'learning_rate': 0.0015164417936461086, 'batch_size': 16, 'rotation_range': 12, 'width_shift_range': 0.01991184529822565, 'height_shift_range': 0.16980077959510653, 'horizontal_flip': True}. Best is trial 0 with value: 0.8125.\n"
     ]
    },
    {
     "name": "stdout",
     "output_type": "stream",
     "text": [
      "Study saved to optuna_study.pkl\n",
      "Epoch 1/10\n",
      "\u001b[1m163/163\u001b[0m \u001b[32m━━━━━━━━━━━━━━━━━━━━\u001b[0m\u001b[37m\u001b[0m \u001b[1m200s\u001b[0m 1s/step - accuracy: 0.7933 - loss: 3.6592 - val_accuracy: 0.8125 - val_loss: 0.4439\n",
      "Epoch 2/10\n",
      "\u001b[1m163/163\u001b[0m \u001b[32m━━━━━━━━━━━━━━━━━━━━\u001b[0m\u001b[37m\u001b[0m \u001b[1m196s\u001b[0m 1s/step - accuracy: 0.8735 - loss: 0.2874 - val_accuracy: 0.6875 - val_loss: 0.6244\n",
      "Epoch 3/10\n",
      "\u001b[1m163/163\u001b[0m \u001b[32m━━━━━━━━━━━━━━━━━━━━\u001b[0m\u001b[37m\u001b[0m \u001b[1m198s\u001b[0m 1s/step - accuracy: 0.8848 - loss: 0.2622 - val_accuracy: 0.6875 - val_loss: 0.6608\n",
      "Epoch 4/10\n",
      "\u001b[1m163/163\u001b[0m \u001b[32m━━━━━━━━━━━━━━━━━━━━\u001b[0m\u001b[37m\u001b[0m \u001b[1m195s\u001b[0m 1s/step - accuracy: 0.9096 - loss: 0.2226 - val_accuracy: 0.7500 - val_loss: 0.5108\n"
     ]
    },
    {
     "name": "stderr",
     "output_type": "stream",
     "text": [
      "[I 2025-04-16 11:40:59,800] Trial 2 finished with value: 0.75 and parameters: {'n_layers': 3, 'initial_filters': 64, 'dropout_rate': 0.47864821727936946, 'learning_rate': 0.0019684066305095146, 'batch_size': 32, 'rotation_range': 20, 'width_shift_range': 0.038240396164753436, 'height_shift_range': 0.1095915786179434, 'horizontal_flip': False}. Best is trial 0 with value: 0.8125.\n"
     ]
    },
    {
     "name": "stdout",
     "output_type": "stream",
     "text": [
      "Study saved to optuna_study.pkl\n",
      "Epoch 1/10\n",
      "\u001b[1m326/326\u001b[0m \u001b[32m━━━━━━━━━━━━━━━━━━━━\u001b[0m\u001b[37m\u001b[0m \u001b[1m52s\u001b[0m 155ms/step - accuracy: 0.8189 - loss: 1.5300 - val_accuracy: 0.6875 - val_loss: 0.8983\n",
      "Epoch 2/10\n",
      "\u001b[1m326/326\u001b[0m \u001b[32m━━━━━━━━━━━━━━━━━━━━\u001b[0m\u001b[37m\u001b[0m \u001b[1m50s\u001b[0m 153ms/step - accuracy: 0.9021 - loss: 0.2474 - val_accuracy: 0.9375 - val_loss: 0.2724\n",
      "Epoch 3/10\n",
      "\u001b[1m326/326\u001b[0m \u001b[32m━━━━━━━━━━━━━━━━━━━━\u001b[0m\u001b[37m\u001b[0m \u001b[1m50s\u001b[0m 153ms/step - accuracy: 0.9120 - loss: 0.2537 - val_accuracy: 0.8750 - val_loss: 0.2765\n",
      "Epoch 4/10\n",
      "\u001b[1m326/326\u001b[0m \u001b[32m━━━━━━━━━━━━━━━━━━━━\u001b[0m\u001b[37m\u001b[0m \u001b[1m49s\u001b[0m 151ms/step - accuracy: 0.9326 - loss: 0.1853 - val_accuracy: 0.6250 - val_loss: 2.5968\n",
      "Epoch 5/10\n",
      "\u001b[1m326/326\u001b[0m \u001b[32m━━━━━━━━━━━━━━━━━━━━\u001b[0m\u001b[37m\u001b[0m \u001b[1m50s\u001b[0m 154ms/step - accuracy: 0.9294 - loss: 0.2009 - val_accuracy: 0.7500 - val_loss: 0.8342\n"
     ]
    },
    {
     "name": "stderr",
     "output_type": "stream",
     "text": [
      "[I 2025-04-16 11:45:11,603] Trial 3 finished with value: 0.75 and parameters: {'n_layers': 2, 'initial_filters': 20, 'dropout_rate': 0.17161891842148908, 'learning_rate': 0.0012141792912308364, 'batch_size': 16, 'rotation_range': 1, 'width_shift_range': 0.13328318415389537, 'height_shift_range': 0.13111611701454023, 'horizontal_flip': True}. Best is trial 0 with value: 0.8125.\n"
     ]
    },
    {
     "name": "stdout",
     "output_type": "stream",
     "text": [
      "Study saved to optuna_study.pkl\n",
      "Epoch 1/10\n",
      "\u001b[1m326/326\u001b[0m \u001b[32m━━━━━━━━━━━━━━━━━━━━\u001b[0m\u001b[37m\u001b[0m \u001b[1m51s\u001b[0m 150ms/step - accuracy: 0.7305 - loss: 2.2776 - val_accuracy: 0.8125 - val_loss: 0.6039\n",
      "Epoch 2/10\n",
      "\u001b[1m326/326\u001b[0m \u001b[32m━━━━━━━━━━━━━━━━━━━━\u001b[0m\u001b[37m\u001b[0m \u001b[1m51s\u001b[0m 157ms/step - accuracy: 0.8123 - loss: 0.4124 - val_accuracy: 0.7500 - val_loss: 0.5456\n",
      "Epoch 3/10\n",
      "\u001b[1m326/326\u001b[0m \u001b[32m━━━━━━━━━━━━━━━━━━━━\u001b[0m\u001b[37m\u001b[0m \u001b[1m50s\u001b[0m 153ms/step - accuracy: 0.8319 - loss: 0.3551 - val_accuracy: 0.8750 - val_loss: 0.3953\n",
      "Epoch 4/10\n",
      "\u001b[1m326/326\u001b[0m \u001b[32m━━━━━━━━━━━━━━━━━━━━\u001b[0m\u001b[37m\u001b[0m \u001b[1m49s\u001b[0m 151ms/step - accuracy: 0.8398 - loss: 0.3557 - val_accuracy: 0.6875 - val_loss: 0.4860\n",
      "Epoch 5/10\n",
      "\u001b[1m326/326\u001b[0m \u001b[32m━━━━━━━━━━━━━━━━━━━━\u001b[0m\u001b[37m\u001b[0m \u001b[1m45s\u001b[0m 139ms/step - accuracy: 0.8549 - loss: 0.3115 - val_accuracy: 0.6875 - val_loss: 0.8267\n",
      "Epoch 6/10\n",
      "\u001b[1m326/326\u001b[0m \u001b[32m━━━━━━━━━━━━━━━━━━━━\u001b[0m\u001b[37m\u001b[0m \u001b[1m46s\u001b[0m 140ms/step - accuracy: 0.8801 - loss: 0.2942 - val_accuracy: 0.7500 - val_loss: 0.4963\n"
     ]
    },
    {
     "name": "stderr",
     "output_type": "stream",
     "text": [
      "[I 2025-04-16 11:50:04,817] Trial 4 finished with value: 0.75 and parameters: {'n_layers': 3, 'initial_filters': 20, 'dropout_rate': 0.1935325219291238, 'learning_rate': 0.005912744847320742, 'batch_size': 16, 'rotation_range': 2, 'width_shift_range': 0.09319652998816984, 'height_shift_range': 0.15471590250093384, 'horizontal_flip': True}. Best is trial 0 with value: 0.8125.\n"
     ]
    },
    {
     "name": "stdout",
     "output_type": "stream",
     "text": [
      "Study saved to optuna_study.pkl\n",
      "Epoch 1/10\n",
      "\u001b[1m163/163\u001b[0m \u001b[32m━━━━━━━━━━━━━━━━━━━━\u001b[0m\u001b[37m\u001b[0m \u001b[1m0s\u001b[0m 456ms/step - accuracy: 0.7948 - loss: 1.2022"
     ]
    },
    {
     "name": "stderr",
     "output_type": "stream",
     "text": [
      "[I 2025-04-16 11:51:22,219] Trial 5 pruned. Trial was pruned at epoch 0.\n"
     ]
    },
    {
     "name": "stdout",
     "output_type": "stream",
     "text": [
      "Study saved to optuna_study.pkl\n",
      "Epoch 1/10\n",
      "\u001b[1m326/326\u001b[0m \u001b[32m━━━━━━━━━━━━━━━━━━━━\u001b[0m\u001b[37m\u001b[0m \u001b[1m0s\u001b[0m 208ms/step - accuracy: 0.8474 - loss: 0.4752"
     ]
    },
    {
     "name": "stderr",
     "output_type": "stream",
     "text": [
      "[I 2025-04-16 11:52:33,885] Trial 6 pruned. Trial was pruned at epoch 0.\n"
     ]
    },
    {
     "name": "stdout",
     "output_type": "stream",
     "text": [
      "Study saved to optuna_study.pkl\n",
      "Epoch 1/10\n",
      "\u001b[1m163/163\u001b[0m \u001b[32m━━━━━━━━━━━━━━━━━━━━\u001b[0m\u001b[37m\u001b[0m \u001b[1m73s\u001b[0m 440ms/step - accuracy: 0.8302 - loss: 1.1229 - val_accuracy: 0.8750 - val_loss: 0.3320\n",
      "Epoch 2/10\n",
      "\u001b[1m163/163\u001b[0m \u001b[32m━━━━━━━━━━━━━━━━━━━━\u001b[0m\u001b[37m\u001b[0m \u001b[1m71s\u001b[0m 434ms/step - accuracy: 0.9384 - loss: 0.1534 - val_accuracy: 0.8125 - val_loss: 0.2703\n",
      "Epoch 3/10\n",
      "\u001b[1m163/163\u001b[0m \u001b[32m━━━━━━━━━━━━━━━━━━━━\u001b[0m\u001b[37m\u001b[0m \u001b[1m71s\u001b[0m 438ms/step - accuracy: 0.9466 - loss: 0.1250 - val_accuracy: 0.8125 - val_loss: 0.3401\n",
      "Epoch 4/10\n",
      "\u001b[1m163/163\u001b[0m \u001b[32m━━━━━━━━━━━━━━━━━━━━\u001b[0m\u001b[37m\u001b[0m \u001b[1m71s\u001b[0m 434ms/step - accuracy: 0.9513 - loss: 0.1082 - val_accuracy: 0.9375 - val_loss: 0.2445\n",
      "Epoch 5/10\n",
      "\u001b[1m163/163\u001b[0m \u001b[32m━━━━━━━━━━━━━━━━━━━━\u001b[0m\u001b[37m\u001b[0m \u001b[1m71s\u001b[0m 436ms/step - accuracy: 0.9603 - loss: 0.1002 - val_accuracy: 0.8125 - val_loss: 0.5678\n",
      "Epoch 6/10\n",
      "\u001b[1m163/163\u001b[0m \u001b[32m━━━━━━━━━━━━━━━━━━━━\u001b[0m\u001b[37m\u001b[0m \u001b[1m71s\u001b[0m 435ms/step - accuracy: 0.9642 - loss: 0.0984 - val_accuracy: 0.8125 - val_loss: 0.2876\n",
      "Epoch 7/10\n",
      "\u001b[1m163/163\u001b[0m \u001b[32m━━━━━━━━━━━━━━━━━━━━\u001b[0m\u001b[37m\u001b[0m \u001b[1m71s\u001b[0m 434ms/step - accuracy: 0.9603 - loss: 0.0986 - val_accuracy: 1.0000 - val_loss: 0.0194\n",
      "Epoch 8/10\n",
      "\u001b[1m163/163\u001b[0m \u001b[32m━━━━━━━━━━━━━━━━━━━━\u001b[0m\u001b[37m\u001b[0m \u001b[1m71s\u001b[0m 436ms/step - accuracy: 0.9691 - loss: 0.0886 - val_accuracy: 1.0000 - val_loss: 0.0363\n",
      "Epoch 9/10\n",
      "\u001b[1m163/163\u001b[0m \u001b[32m━━━━━━━━━━━━━━━━━━━━\u001b[0m\u001b[37m\u001b[0m \u001b[1m71s\u001b[0m 435ms/step - accuracy: 0.9694 - loss: 0.0805 - val_accuracy: 1.0000 - val_loss: 0.0526\n",
      "Epoch 10/10\n",
      "\u001b[1m163/163\u001b[0m \u001b[32m━━━━━━━━━━━━━━━━━━━━\u001b[0m\u001b[37m\u001b[0m \u001b[1m78s\u001b[0m 476ms/step - accuracy: 0.9723 - loss: 0.0749 - val_accuracy: 1.0000 - val_loss: 0.0141\n"
     ]
    },
    {
     "name": "stderr",
     "output_type": "stream",
     "text": [
      "[I 2025-04-16 12:04:33,243] Trial 7 finished with value: 1.0 and parameters: {'n_layers': 2, 'initial_filters': 32, 'dropout_rate': 0.2391642349927607, 'learning_rate': 0.0003052770523341374, 'batch_size': 32, 'rotation_range': 0, 'width_shift_range': 0.013109472122892174, 'height_shift_range': 0.06597518469009249, 'horizontal_flip': True}. Best is trial 7 with value: 1.0.\n"
     ]
    },
    {
     "name": "stdout",
     "output_type": "stream",
     "text": [
      "Study saved to optuna_study.pkl\n",
      "Epoch 1/10\n",
      "\u001b[1m163/163\u001b[0m \u001b[32m━━━━━━━━━━━━━━━━━━━━\u001b[0m\u001b[37m\u001b[0m \u001b[1m0s\u001b[0m 744ms/step - accuracy: 0.8209 - loss: 1.2759"
     ]
    },
    {
     "name": "stderr",
     "output_type": "stream",
     "text": [
      "[I 2025-04-16 12:06:38,789] Trial 8 pruned. Trial was pruned at epoch 0.\n"
     ]
    },
    {
     "name": "stdout",
     "output_type": "stream",
     "text": [
      "Study saved to optuna_study.pkl\n",
      "Epoch 1/10\n",
      "\u001b[1m326/326\u001b[0m \u001b[32m━━━━━━━━━━━━━━━━━━━━\u001b[0m\u001b[37m\u001b[0m \u001b[1m0s\u001b[0m 372ms/step - accuracy: 0.8290 - loss: 0.8675"
     ]
    },
    {
     "name": "stderr",
     "output_type": "stream",
     "text": [
      "[I 2025-04-16 12:08:43,998] Trial 9 pruned. Trial was pruned at epoch 0.\n"
     ]
    },
    {
     "name": "stdout",
     "output_type": "stream",
     "text": [
      "Study saved to optuna_study.pkl\n"
     ]
    }
   ],
   "source": [
    "# Try to load existing study\n",
    "study = load_study()\n",
    "\n",
    "# If no study exists, create a new one\n",
    "if study is None:\n",
    "    study = optuna.create_study(direction='maximize', pruner=optuna.pruners.MedianPruner())\n",
    "    print(\"Created new study\")\n",
    "\n",
    "# Run optimization with checkpointing\n",
    "study.optimize(objective, n_trials=10, callbacks=[lambda study, trial: save_study(study)])\n"
   ]
  },
  {
   "cell_type": "code",
   "execution_count": 16,
   "metadata": {},
   "outputs": [
    {
     "name": "stdout",
     "output_type": "stream",
     "text": [
      "Study saved to optuna_study.pkl\n"
     ]
    }
   ],
   "source": [
    "# Save the final study\n",
    "save_study(study)"
   ]
  },
  {
   "cell_type": "code",
   "execution_count": 17,
   "metadata": {},
   "outputs": [
    {
     "name": "stdout",
     "output_type": "stream",
     "text": [
      "Study loaded from optuna_study.pkl\n",
      "Best trial:\n",
      "  Value:  1.0\n",
      "  Params: \n",
      "    n_layers: 2\n",
      "    initial_filters: 32\n",
      "    dropout_rate: 0.2391642349927607\n",
      "    learning_rate: 0.0003052770523341374\n",
      "    batch_size: 32\n",
      "    rotation_range: 0\n",
      "    width_shift_range: 0.013109472122892174\n",
      "    height_shift_range: 0.06597518469009249\n",
      "    horizontal_flip: True\n"
     ]
    }
   ],
   "source": [
    "# Load the saved study\n",
    "study = load_study()\n",
    "\n",
    "# Print best parameters\n",
    "print(\"Best trial:\")\n",
    "trial = study.best_trial\n",
    "print(\"  Value: \", trial.value)\n",
    "print(\"  Params: \")\n",
    "for key, value in trial.params.items():\n",
    "    print(f\"    {key}: {value}\")\n",
    "\n",
    "\n",
    "# # Best trial:\n",
    "#   Value: 0.875\n",
    "#   Params: \n",
    "#     n_layers: 4\n",
    "#     initial_filters: 28\n",
    "#     dropout_rate: 0.3934239936659848\n",
    "#     learning_rate: 0.0008179373408741687\n",
    "#     batch_size: 64\n",
    "#     rotation_range: 4\n",
    "#     width_shift_range: 0.02933707456535968\n",
    "#     height_shift_range: 0.11687036886534152\n",
    "#     horizontal_flip: False\n"
   ]
  },
  {
   "cell_type": "code",
   "execution_count": 23,
   "metadata": {},
   "outputs": [
    {
     "name": "stderr",
     "output_type": "stream",
     "text": [
      "C:\\Users\\danie\\AppData\\Local\\Temp\\ipykernel_14388\\569508573.py:6: ExperimentalWarning:\n",
      "\n",
      "plot_optimization_history is experimental (supported from v2.2.0). The interface can change in the future.\n",
      "\n",
      "C:\\Users\\danie\\AppData\\Local\\Temp\\ipykernel_14388\\569508573.py:12: ExperimentalWarning:\n",
      "\n",
      "plot_param_importances is experimental (supported from v2.2.0). The interface can change in the future.\n",
      "\n"
     ]
    },
    {
     "data": {
      "text/plain": [
       "<Figure size 1000x600 with 0 Axes>"
      ]
     },
     "metadata": {},
     "output_type": "display_data"
    },
    {
     "data": {
      "text/plain": [
       "<Figure size 1000x600 with 0 Axes>"
      ]
     },
     "metadata": {},
     "output_type": "display_data"
    }
   ],
   "source": [
    "# Try these instead of the Plotly-based visualizations\n",
    "import optuna.visualization.matplotlib as optuna_plot\n",
    "\n",
    "# Create a figure for optimization history\n",
    "plt.figure(figsize=(10, 6))\n",
    "optuna_plot.plot_optimization_history(study)\n",
    "plt.savefig('optimization_history.png')\n",
    "plt.close()\n",
    "\n",
    "# Create a figure for parameter importances\n",
    "plt.figure(figsize=(10, 6))\n",
    "optuna_plot.plot_param_importances(study)\n",
    "plt.savefig('parameter_importances.png')\n",
    "plt.close()"
   ]
  },
  {
   "cell_type": "code",
   "execution_count": 20,
   "metadata": {},
   "outputs": [
    {
     "name": "stderr",
     "output_type": "stream",
     "text": [
      "c:\\Users\\danie\\Leiden_Scripts\\Datascience2025_A2\\datascience_env\\Lib\\site-packages\\keras\\src\\layers\\convolutional\\base_conv.py:107: UserWarning:\n",
      "\n",
      "Do not pass an `input_shape`/`input_dim` argument to a layer. When using Sequential models, prefer using an `Input(shape)` object as the first layer in the model instead.\n",
      "\n"
     ]
    },
    {
     "ename": "TypeError",
     "evalue": "get_training_data() missing 1 required positional argument: 'data_dir'",
     "output_type": "error",
     "traceback": [
      "\u001b[31m---------------------------------------------------------------------------\u001b[39m",
      "\u001b[31mTypeError\u001b[39m                                 Traceback (most recent call last)",
      "\u001b[36mCell\u001b[39m\u001b[36m \u001b[39m\u001b[32mIn[20]\u001b[39m\u001b[32m, line 6\u001b[39m\n\u001b[32m      3\u001b[39m model, batch_size = create_model(study.best_trial)\n\u001b[32m      5\u001b[39m \u001b[38;5;66;03m# Load all data\u001b[39;00m\n\u001b[32m----> \u001b[39m\u001b[32m6\u001b[39m (x_train, y_train), (x_val, y_val), (x_test, y_test) = \u001b[43mget_training_data\u001b[49m\u001b[43m(\u001b[49m\u001b[43m)\u001b[49m\n\u001b[32m      8\u001b[39m \u001b[38;5;66;03m# Data augmentation with best parameters\u001b[39;00m\n\u001b[32m      9\u001b[39m datagen = keras.preprocessing.image.ImageDataGenerator(\n\u001b[32m     10\u001b[39m     rotation_range=best_params[\u001b[33m'\u001b[39m\u001b[33mrotation_range\u001b[39m\u001b[33m'\u001b[39m],\n\u001b[32m     11\u001b[39m     width_shift_range=best_params[\u001b[33m'\u001b[39m\u001b[33mwidth_shift_range\u001b[39m\u001b[33m'\u001b[39m],\n\u001b[32m   (...)\u001b[39m\u001b[32m     14\u001b[39m     fill_mode=\u001b[33m'\u001b[39m\u001b[33mnearest\u001b[39m\u001b[33m'\u001b[39m\n\u001b[32m     15\u001b[39m )\n",
      "\u001b[31mTypeError\u001b[39m: get_training_data() missing 1 required positional argument: 'data_dir'"
     ]
    }
   ],
   "source": [
    "# Train final model with best parameters\n",
    "best_params = study.best_params\n",
    "model, batch_size = create_model(study.best_trial)\n",
    "\n",
    "# Load all data\n",
    "(x_train, y_train), (x_val, y_val), (x_test, y_test) = get_training_data()\n",
    "\n",
    "# Data augmentation with best parameters\n",
    "datagen = keras.preprocessing.image.ImageDataGenerator(\n",
    "    rotation_range=best_params['rotation_range'],\n",
    "    width_shift_range=best_params['width_shift_range'],\n",
    "    height_shift_range=best_params['height_shift_range'],\n",
    "    horizontal_flip=best_params['horizontal_flip'],\n",
    "    fill_mode='nearest'\n",
    ")\n",
    "\n",
    "# Train final model\n",
    "history = model.fit(\n",
    "    datagen.flow(x_train, y_train, batch_size=batch_size),\n",
    "    epochs=20,\n",
    "    validation_data=(x_val, y_val),\n",
    "    callbacks=[\n",
    "        keras.callbacks.EarlyStopping(monitor='val_accuracy', patience=5),\n",
    "        keras.callbacks.ReduceLROnPlateau(monitor='val_accuracy', patience=2, factor=0.3)\n",
    "    ]\n",
    ")\n",
    "\n",
    "# Evaluate on test set\n",
    "test_loss, test_accuracy = model.evaluate(x_test, y_test)\n",
    "print(f\"Test accuracy: {test_accuracy*100:.2f}%\")"
   ]
  },
  {
   "cell_type": "code",
   "execution_count": 21,
   "metadata": {},
   "outputs": [
    {
     "name": "stdout",
     "output_type": "stream",
     "text": [
      "\n",
      "Evaluating CNN Model:\n"
     ]
    },
    {
     "ename": "NameError",
     "evalue": "name 'x_train' is not defined",
     "output_type": "error",
     "traceback": [
      "\u001b[31m---------------------------------------------------------------------------\u001b[39m",
      "\u001b[31mNameError\u001b[39m                                 Traceback (most recent call last)",
      "\u001b[36mCell\u001b[39m\u001b[36m \u001b[39m\u001b[32mIn[21]\u001b[39m\u001b[32m, line 46\u001b[39m\n\u001b[32m     44\u001b[39m \u001b[38;5;66;03m# Evaluate CNN model on train and test sets\u001b[39;00m\n\u001b[32m     45\u001b[39m \u001b[38;5;28mprint\u001b[39m(\u001b[33m\"\u001b[39m\u001b[38;5;130;01m\\n\u001b[39;00m\u001b[33mEvaluating CNN Model:\u001b[39m\u001b[33m\"\u001b[39m)\n\u001b[32m---> \u001b[39m\u001b[32m46\u001b[39m train_metrics = evaluate_model(model, \u001b[43mx_train\u001b[49m, y_train, \u001b[33m\"\u001b[39m\u001b[33mTrain\u001b[39m\u001b[33m\"\u001b[39m)\n\u001b[32m     47\u001b[39m test_metrics = evaluate_model(model, x_test, y_test, \u001b[33m\"\u001b[39m\u001b[33mTest\u001b[39m\u001b[33m\"\u001b[39m)\n\u001b[32m     49\u001b[39m \u001b[38;5;66;03m# Load and evaluate the alternative ML model (Random Forest)\u001b[39;00m\n",
      "\u001b[31mNameError\u001b[39m: name 'x_train' is not defined"
     ]
    }
   ],
   "source": [
    "# Import additional metrics\n",
    "from sklearn.metrics import confusion_matrix, classification_report, precision_recall_fscore_support\n",
    "import seaborn as sns\n",
    "\n",
    "# Function to evaluate and plot metrics\n",
    "def evaluate_model(model, x_data, y_data, title_prefix):\n",
    "    # Get predictions\n",
    "    y_pred = (model.predict(x_data) > 0.5).astype(int)\n",
    "    \n",
    "    # Calculate metrics\n",
    "    precision, recall, f1, _ = precision_recall_fscore_support(y_data, y_pred, average='binary')\n",
    "    \n",
    "    # Create confusion matrix\n",
    "    cm = confusion_matrix(y_data, y_pred)\n",
    "    \n",
    "    # Plot confusion matrix\n",
    "    plt.figure(figsize=(10, 4))\n",
    "    \n",
    "    plt.subplot(1, 2, 1)\n",
    "    sns.heatmap(cm, annot=True, fmt='d', cmap='Blues')\n",
    "    plt.title(f'{title_prefix} Confusion Matrix')\n",
    "    plt.xlabel('Predicted')\n",
    "    plt.ylabel('True')\n",
    "    \n",
    "    # Plot metrics\n",
    "    plt.subplot(1, 2, 2)\n",
    "    metrics = ['Precision', 'Recall', 'F1 Score']\n",
    "    values = [precision, recall, f1]\n",
    "    plt.bar(metrics, values)\n",
    "    plt.title(f'{title_prefix} Metrics')\n",
    "    plt.ylim(0, 1)\n",
    "    for i, v in enumerate(values):\n",
    "        plt.text(i, v + 0.02, f'{v:.3f}', ha='center')\n",
    "    \n",
    "    plt.tight_layout()\n",
    "    plt.show()\n",
    "    \n",
    "    # Print detailed classification report\n",
    "    print(f\"\\n{title_prefix} Classification Report:\")\n",
    "    print(classification_report(y_data, y_pred))\n",
    "    \n",
    "    return precision, recall, f1\n",
    "\n",
    "# Evaluate CNN model on train and test sets\n",
    "print(\"\\nEvaluating CNN Model:\")\n",
    "train_metrics = evaluate_model(model, x_train, y_train, \"Train\")\n",
    "test_metrics = evaluate_model(model, x_test, y_test, \"Test\")\n",
    "\n",
    "# Load and evaluate the alternative ML model (Random Forest)\n",
    "from sklearn.ensemble import RandomForestClassifier\n",
    "import joblib\n",
    "\n",
    "# Load the saved Random Forest model\n",
    "rf_model = joblib.load('../models/random_forest_model.joblib')\n",
    "\n",
    "# Reshape data for Random Forest (flatten images)\n",
    "x_train_flat = x_train.reshape(x_train.shape[0], -1)\n",
    "x_test_flat = x_test.reshape(x_test.shape[0], -1)\n",
    "\n",
    "# Evaluate Random Forest model\n",
    "print(\"\\nEvaluating Random Forest Model:\")\n",
    "rf_train_metrics = evaluate_model(rf_model, x_train_flat, y_train, \"Train\")\n",
    "rf_test_metrics = evaluate_model(rf_model, x_test_flat, y_test, \"Test\")\n",
    "\n",
    "# Compare models\n",
    "print(\"\\nModel Comparison Summary:\")\n",
    "print(\"CNN Model:\")\n",
    "print(f\"Train - Precision: {train_metrics[0]:.3f}, Recall: {train_metrics[1]:.3f}, F1: {train_metrics[2]:.3f}\")\n",
    "print(f\"Test  - Precision: {test_metrics[0]:.3f}, Recall: {test_metrics[1]:.3f}, F1: {test_metrics[2]:.3f}\")\n",
    "print(\"\\nRandom Forest Model:\")\n",
    "print(f\"Train - Precision: {rf_train_metrics[0]:.3f}, Recall: {rf_train_metrics[1]:.3f}, F1: {rf_train_metrics[2]:.3f}\")\n",
    "print(f\"Test  - Precision: {rf_test_metrics[0]:.3f}, Recall: {rf_test_metrics[1]:.3f}, F1: {rf_test_metrics[2]:.3f}\")"
   ]
  },
  {
   "cell_type": "code",
   "execution_count": 22,
   "metadata": {},
   "outputs": [
    {
     "ename": "NameError",
     "evalue": "name 'history' is not defined",
     "output_type": "error",
     "traceback": [
      "\u001b[31m---------------------------------------------------------------------------\u001b[39m",
      "\u001b[31mNameError\u001b[39m                                 Traceback (most recent call last)",
      "\u001b[36mCell\u001b[39m\u001b[36m \u001b[39m\u001b[32mIn[22]\u001b[39m\u001b[32m, line 5\u001b[39m\n\u001b[32m      2\u001b[39m plt.figure(figsize=(\u001b[32m12\u001b[39m, \u001b[32m4\u001b[39m))\n\u001b[32m      4\u001b[39m plt.subplot(\u001b[32m1\u001b[39m, \u001b[32m2\u001b[39m, \u001b[32m1\u001b[39m)\n\u001b[32m----> \u001b[39m\u001b[32m5\u001b[39m plt.plot(\u001b[43mhistory\u001b[49m.history[\u001b[33m'\u001b[39m\u001b[33maccuracy\u001b[39m\u001b[33m'\u001b[39m], label=\u001b[33m'\u001b[39m\u001b[33mTraining\u001b[39m\u001b[33m'\u001b[39m)\n\u001b[32m      6\u001b[39m plt.plot(history.history[\u001b[33m'\u001b[39m\u001b[33mval_accuracy\u001b[39m\u001b[33m'\u001b[39m], label=\u001b[33m'\u001b[39m\u001b[33mValidation\u001b[39m\u001b[33m'\u001b[39m)\n\u001b[32m      7\u001b[39m plt.title(\u001b[33m'\u001b[39m\u001b[33mModel Accuracy\u001b[39m\u001b[33m'\u001b[39m)\n",
      "\u001b[31mNameError\u001b[39m: name 'history' is not defined"
     ]
    },
    {
     "data": {
      "image/png": "[encoded data removed]",
      "text/plain": [
       "<Figure size 1200x400 with 1 Axes>"
      ]
     },
     "metadata": {},
     "output_type": "display_data"
    }
   ],
   "source": [
    "# Plot training history\n",
    "plt.figure(figsize=(12, 4))\n",
    "\n",
    "plt.subplot(1, 2, 1)\n",
    "plt.plot(history.history['accuracy'], label='Training')\n",
    "plt.plot(history.history['val_accuracy'], label='Validation')\n",
    "plt.title('Model Accuracy')\n",
    "plt.xlabel('Epoch')\n",
    "plt.ylabel('Accuracy')\n",
    "plt.legend()\n",
    "\n",
    "plt.subplot(1, 2, 2)\n",
    "plt.plot(history.history['loss'], label='Training')\n",
    "plt.plot(history.history['val_loss'], label='Validation')\n",
    "plt.title('Model Loss')\n",
    "plt.xlabel('Epoch')\n",
    "plt.ylabel('Loss')\n",
    "plt.legend()\n",
    "\n",
    "plt.tight_layout()\n",
    "plt.show()"
   ]
  }
 ],
 "metadata": {
  "kernelspec": {
   "display_name": "datascience_env",
   "language": "python",
   "name": "python3"
  },
  "language_info": {
   "codemirror_mode": {
    "name": "ipython",
    "version": 3
   },
   "file_extension": ".py",
   "mimetype": "text/x-python",
   "name": "python",
   "nbconvert_exporter": "python",
   "pygments_lexer": "ipython3",
   "version": "3.11.9"
  }
 },
 "nbformat": 4,
 "nbformat_minor": 2
}
